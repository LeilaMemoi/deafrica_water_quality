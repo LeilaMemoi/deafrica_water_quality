{
 "cells": [
  {
   "cell_type": "markdown",
   "id": "297f1f07-7a66-4d78-8006-d1c7cdaa17ae",
   "metadata": {},
   "source": [
    "## Work package 1.2 \n",
    "### This notebook demonstrates running water quality measures using a multi-sensor approach, for an area of interest.\n",
    "Note that:\n",
    "- an area / domain of interst is assumed as a start point\n",
    "- the processing resolution is determined from the space-time size of the AOI, in part to remain within sandbox memory limitations\n",
    "- \n",
    "   "
   ]
  },
  {
   "cell_type": "markdown",
   "id": "2e6088e5-d231-467b-86dc-455285b9c611",
   "metadata": {},
   "source": [
    "### Dependencies etc."
   ]
  },
  {
   "cell_type": "raw",
   "id": "9af66f26-d241-4619-b1e4-ec0c2640daea",
   "metadata": {},
   "source": [
    "**Keywords**: :index:"
   ]
  },
  {
   "cell_type": "code",
   "execution_count": 6,
   "id": "b5235bde-fc25-49e0-8eea-1465fcf73204",
   "metadata": {},
   "outputs": [],
   "source": [
    "# --- --- \n",
    "import datacube\n",
    "import numpy as np\n",
    "import xarray as xr\n",
    "import scipy as sp\n",
    "import gc\n",
    "from scipy import stats\n",
    "\n",
    "dc = datacube.Datacube(app='DoinWhatImdoin') #testing what difference the 'app' value makes..."
   ]
  },
  {
   "cell_type": "code",
   "execution_count": 7,
   "id": "7a66e8b6-119a-4afc-907b-a80af4cd92a9",
   "metadata": {},
   "outputs": [],
   "source": [
    "# --- run code for functions that are called\n",
    "%run _WQ_functions.py\n",
    "%run _Build_annual_dataset-1.0.ipynb   #for now I have kept these functions in a notebook for the markdown"
   ]
  },
  {
   "cell_type": "code",
   "execution_count": 34,
   "id": "e78a2e55-b322-4f4c-b9c6-66f839ac83f3",
   "metadata": {},
   "outputs": [],
   "source": [
    "# --- controlling parameters and settings\n",
    "verbose = False\n",
    "test    = False\n",
    "max_cells = 100000   #use this to test memory limits. Memory saving steps are going to be needed..."
   ]
  },
  {
   "cell_type": "code",
   "execution_count": 80,
   "id": "7fc14761-d5d5-4114-8aba-93e8f17759cd",
   "metadata": {},
   "outputs": [
    {
     "data": {
      "text/plain": [
       "{'Lake_Baringo': {'run': True,\n",
       "  'xyt': {'x': (36.0, 36.17), 'y': (0.45, 0.74), 'time': ('2000', '2024')},\n",
       "  'desc': 'Lake Baringo'},\n",
       " 'Lake_Chad': {'run': True,\n",
       "  'xyt': {'x': (12.97, 15.5), 'y': (12.4, 14.5), 'time': ('2000', '2024')},\n",
       "  'desc': 'Lake Chad'},\n",
       " 'Weija_Reservoir': {'run': True,\n",
       "  'xyt': {'x': (-0.325, -0.41), 'y': (5.54, 5.62), 'time': ('2000', '2024')},\n",
       "  'desc': ''},\n",
       " 'Senegal_StLouis': {'run': True,\n",
       "  'xyt': {'x': (-15.74, -15.84), 'y': (16.3, 16.39), 'time': ('2000', '2024')},\n",
       "  'desc': 'Lac de Guiers'},\n",
       " 'Lake_Sulunga': {'run': True,\n",
       "  'xyt': {'x': (34.95, 35.4), 'y': (-6.3, -5.8), 'time': ('2000', '2024')},\n",
       "  'desc': ''},\n",
       " 'few_pixels': {'run': False,\n",
       "  'xyt': {'x': (33.16, 33.16005),\n",
       "   'y': (-2.12, -2.1424),\n",
       "   'time': ('2000', '2024')},\n",
       "  'desc': ''},\n",
       " 'small_area': {'run': False,\n",
       "  'xyt': {'x': (33.1655, 33.1864),\n",
       "   'y': (-2.1532, -2.1444),\n",
       "   'time': ('2000', '2024')},\n",
       "  'desc': ''},\n",
       " 'cameroon_res1': {'run': True,\n",
       "  'xyt': {'y': (6.2, 6.3), 'x': (11.25, 11.35), 'time': ('2000', '2024')},\n",
       "  'desc': 'reservoir in cameroon'},\n",
       " 'Lake_Victoria': {'run': True,\n",
       "  'xyt': {'x': (33.1, 33.3), 'y': (-2.08, -2.15), 'time': ('2000', '2024')},\n",
       "  'desc': ''},\n",
       " 'Lake_Mweru': {'run': True,\n",
       "  'xyt': {'x': (28.2, 29.3), 'y': (-9.5, -8.5), 'time': ('2000', '2024')},\n",
       "  'desc': 'Lake Mweru - Zambia / DRC'},\n",
       " 'Lake_Mweru_subset': {'run': True,\n",
       "  'xyt': {'x': (28.45, 28.75), 'y': (-9.18, -9.03), 'time': ('2000', '2024')},\n",
       "  'desc': ''},\n",
       " 'Ghana_AwunaBeach': {'run': True,\n",
       "  'xyt': {'x': (-1.58, -1.64), 'y': (5.0, 5.05), 'time': ('2000', '2024')},\n",
       "  'desc': ''},\n",
       " 'Ghana_River': {'run': True,\n",
       "  'xyt': {'x': (-1.626, -1.61), 'y': (5.065, 5.089), 'time': ('2000', '2024')},\n",
       "  'desc': 'Ghana, turbid river'},\n",
       " 'Large_area': {'run': False,\n",
       "  'xyt': {'x': (32.5, 35.5), 'y': (-4.5, -1.5), 'time': ('2000', '2024')},\n",
       "  'desc': ''},\n",
       " 'Lake_vic_west': {'run': True,\n",
       "  'xyt': {'x': (32.5, 32.78), 'y': (-2.65, -2.3), 'time': ('2000', '2024')},\n",
       "  'desc': ''},\n",
       " 'Lake_vic_east': {'run': True,\n",
       "  'xyt': {'x': (32.78, 33.3), 'y': (-2.65, -2.3), 'time': ('2000', '2024')},\n",
       "  'desc': ''},\n",
       " 'Lake_vic_test': {'run': True,\n",
       "  'xyt': {'x': (32.78, 33.13), 'y': (-1.95, -1.6), 'time': ('2000', '2024')},\n",
       "  'desc': 'Lake Victoria cloud affected'},\n",
       " 'Lake_vic_turbid': {'run': True,\n",
       "  'xyt': {'x': (34.6, 34.7), 'y': (-0.25, -0.2), 'time': ('2000', '2024')},\n",
       "  'desc': 'Lake Victoria turbid area in NE'},\n",
       " 'Lake_vic_clear': {'run': True,\n",
       "  'xyt': {'x': (34.0, 34.1), 'y': (-0.32, -0.27), 'time': ('2000', '2024')},\n",
       "  'desc': 'Lake Victoria clear water area'},\n",
       " 'Lake_Victoria_NE': {'run': True,\n",
       "  'xyt': {'x': (33.5, 34.8), 'y': (-0.6, 0.4), 'time': ('2000', '2024')},\n",
       "  'desc': 'Lake Victoria NE'},\n",
       " 'Morocco': {'run': True,\n",
       "  'xyt': {'x': (-7.45, -7.65), 'y': (32.4, 32.5), 'time': ('2000', '2024')},\n",
       "  'desc': 'Barrage Al Massira'},\n",
       " 'Thewaterskool_SA': {'run': True,\n",
       "  'xyt': {'x': (19.1, 19.3), 'y': (-34.1, -33.98), 'time': ('2000', '2024')},\n",
       "  'desc': ''},\n",
       " 'SA_dam': {'run': True,\n",
       "  'xyt': {'x': (19.35, 19.47), 'y': (-33.8, -33.65), 'time': ('2000', '2024')},\n",
       "  'desc': ''},\n",
       " 'SA_dam_north': {'run': True,\n",
       "  'xyt': {'x': (19.42, 19.44),\n",
       "   'y': (-33.73, -33.699),\n",
       "   'time': ('2000', '2024')},\n",
       "  'desc': ''},\n",
       " 'SA_dam_south': {'run': True,\n",
       "  'xyt': {'x': (19.415, 19.431),\n",
       "   'y': (-33.781, -33.772),\n",
       "   'time': ('2000', '2024')},\n",
       "  'desc': ''},\n",
       " 'Ethiopia1of2': {'run': True,\n",
       "  'xyt': {'x': (38.35, 38.65), 'y': (7.37, 7.55), 'time': ('2000', '2024')},\n",
       "  'desc': \"Ethiopia, Shala Hayk'\"},\n",
       " 'Ethiopia2of2': {'run': True,\n",
       "  'xyt': {'x': (38.66, 38.83), 'y': (7.5, 7.71), 'time': ('2000', '2024')},\n",
       "  'desc': \"Ethiopia, Abyata Hayk'\"},\n",
       " 'Ethiopia3of2': {'run': True,\n",
       "  'xyt': {'x': (38.5, 38.67), 'y': (7.55, 7.69), 'time': ('2000', '2024')},\n",
       "  'desc': \"Ethiopia, Langano Hayk' (turbid)\"},\n",
       " 'Ethiopia_Lake_Tana': {'run': True,\n",
       "  'xyt': {'x': (37.05, 37.22), 'y': (11.9, 12.0), 'time': ('2000', '2024')},\n",
       "  'desc': 'Ethiopia_Lake_Tana'},\n",
       " 'Mare_aux_Vacoas': {'run': True,\n",
       "  'xyt': {'x': (57.485, 57.524),\n",
       "   'y': (-20.389, -20.359),\n",
       "   'time': ('2000', '2024')},\n",
       "  'desc': 'Mare_aux_Vacoas'},\n",
       " 'SA_smalldam': {'run': True,\n",
       "  'xyt': {'x': (19.494, 19.498),\n",
       "   'y': (-33.802, -33.8),\n",
       "   'time': ('2000', '2024')},\n",
       "  'desc': 'Irrigation Dam, South Africa'},\n",
       " 'Ethiopia_both': {'run': False,\n",
       "  'xyt': {'x': (38.35, 38.83), 'y': (7.37, 7.71), 'time': ('2000', '2024')},\n",
       "  'desc': 'Ethiopia, Lake Abiata +'},\n",
       " 'Madagascar': {'run': True,\n",
       "  'xyt': {'x': (43.58, 43.76),\n",
       "   'y': (-22.03, -21.87),\n",
       "   'time': ('2000', '2024')},\n",
       "  'desc': 'Farihy Ihotry, Madagascar'},\n",
       " 'Lake_Manyara': {'run': True,\n",
       "  'xyt': {'x': (35.68, 35.92), 'y': (-3.86, -3.38), 'time': ('2000', '2024')},\n",
       "  'desc': 'Lake_Manyara, Tanzania'},\n",
       " 'Farihy_': {'run': True,\n",
       "  'xyt': {'x': (43.58, 43.76),\n",
       "   'y': (-22.03, -21.87),\n",
       "   'time': ('2000', '2024')},\n",
       "  'desc': 'Farihy Ihotry, Madagascar'},\n",
       " 'Farihy_itasy': {'run': True,\n",
       "  'xyt': {'x': (46.73, 46.83), 'y': (-19.1, -19.04), 'time': ('2000', '2024')},\n",
       "  'desc': 'Farihy Itasy, Madagascar'},\n",
       " 'Kolokonda': {'run': True,\n",
       "  'xyt': {'x': (35.4888, 35.5488),\n",
       "   'y': (-5.976, -5.916),\n",
       "   'time': ('2000', '2024')},\n",
       "  'desc': 'Kolokonda, Tanzania'},\n",
       " 'Dodoma_small': {'run': True,\n",
       "  'xyt': {'x': (35.475, 35.51), 'y': (-6.03, -5.99), 'time': ('2000', '2024')},\n",
       "  'desc': 'Dodoma, Tanzania'},\n",
       " 'size_test': {'run': False,\n",
       "  'xyt': {'x': (31.4, 32.4), 'y': (-0.0, -1.0), 'time': ('2000', '2024')},\n",
       "  'desc': 'Lake Victoria'},\n",
       " 'lake_vic_all': {'run': False,\n",
       "  'xyt': {'x': (31.5, 34.86), 'y': (-3.0, 0.5), 'time': ('2000', '2024')},\n",
       "  'desc': 'Lake Victoria'},\n",
       " 'lake_elmenteita': {'run': True,\n",
       "  'xyt': {'x': (36.2, 36.27), 'y': (-0.485, -0.39), 'time': ('2000', '2024')},\n",
       "  'desc': 'Lake Elmenteita'},\n",
       " 'mombasa': {'run': True,\n",
       "  'xyt': {'x': (39.5, 39.72), 'y': (-4.1, -3.97), 'time': ('2000', '2024')},\n",
       "  'desc': 'Mombasa'},\n",
       " 'Mauritania_2': {'run': True,\n",
       "  'xyt': {'x': (-15.63, -15.54),\n",
       "   'y': (16.605, 16.69),\n",
       "   'time': ('2000', '2024')},\n",
       "  'desc': 'Mauritania Wetland'},\n",
       " 'Mauritania_1': {'run': True,\n",
       "  'xyt': {'x': (-16.37, -16.32),\n",
       "   'y': (16.41, 16.45),\n",
       "   'time': ('2000', '2024')},\n",
       "  'desc': 'Mauritania Wetland'},\n",
       " 'Lake_Nasser_nth': {'run': True,\n",
       "  'xyt': {'x': (32.87, 32.95), 'y': (23.69, 23.72), 'time': ('2000', '2024')},\n",
       "  'desc': 'Lake Nasser clear water'},\n",
       " 'Lake_Nasser_sth': {'run': True,\n",
       "  'xyt': {'x': (31.2, 31.3), 'y': (21.795, 21.845), 'time': ('2000', '2024')},\n",
       "  'desc': 'Lake Nasser turbid water'},\n",
       " 'Tana_Hayk': {'run': True,\n",
       "  'xyt': {'x': (36.95, 37.65), 'y': (11.56, 12.33), 'time': ('2000', '2024')},\n",
       "  'desc': \"T'ana Hayk', northern Ethiopia\"},\n",
       " 'Lake_Malawi': {'run': True,\n",
       "  'xyt': {'x': (34.25, 34.97), 'y': (-13.6, -13.3), 'time': ('2000', '2024')},\n",
       "  'desc': 'Lake Malawi - part of'},\n",
       " 'Lago de Cabora': {'run': True,\n",
       "  'xyt': {'x': (30.9, 32.52), 'y': (-15.95, -15.45), 'time': ('2000', '2024')},\n",
       "  'desc': 'Lago de Cabora Basa - Mozambique'},\n",
       " 'Mtera Reservoir': {'run': True,\n",
       "  'xyt': {'x': (35.6, 36.01), 'y': (-7.2, -6.86), 'time': ('2000', '2024')},\n",
       "  'desc': 'Lake Nzuhe, Tanzania'},\n",
       " 'Barrage Joumine': {'run': True,\n",
       "  'xyt': {'x': (9.53, 9.62), 'y': (36.952, 37.0), 'time': ('2000', '2024')},\n",
       "  'desc': 'Joumine Dam,Tunisia'},\n",
       " 'Tunisia_Dam': {'run': True,\n",
       "  'xyt': {'x': (8.53, 8.56), 'y': (36.685, 36.75), 'time': ('2000', '2024')},\n",
       "  'desc': 'Tunisia'},\n",
       " 'Lake_Ngami': {'run': True,\n",
       "  'xyt': {'x': (22.55, 22.89), 'y': (-20.6, -20.37), 'time': ('2000', '2024')},\n",
       "  'desc': 'Botswana'},\n",
       " 'Lake_Chilwa': {'run': True,\n",
       "  'xyt': {'x': (35.5, 35.9), 'y': (-15.6, -14.9), 'time': ('2000', '2024')},\n",
       "  'desc': 'Malawi - Lake Chilwa'},\n",
       " 'Lake_Malombe': {'run': True,\n",
       "  'xyt': {'x': (35.15, 35.35), 'y': (-14.8, -14.5), 'time': ('2000', '2024')},\n",
       "  'desc': 'Malawi - Lake Malombe'},\n",
       " 'Lake_Piti': {'run': True,\n",
       "  'xyt': {'x': (32.85, 32.9), 'y': (-26.6, -26.5), 'time': ('2000', '2024')},\n",
       "  'desc': 'Mozambique - Lake Piti'},\n",
       " 'Maputo_reserve': {'run': True,\n",
       "  'xyt': {'x': (32.79, 32.83), 'y': (-26.55, -26.5), 'time': ('2000', '2024')},\n",
       "  'desc': 'Mozambique - Maputo reserve'},\n",
       " 'Indian_Ocean': {'run': True,\n",
       "  'xyt': {'x': (57.75, 57.8), 'y': (-20.5, -20.45), 'time': ('2000', '2024')},\n",
       "  'desc': 'Mauritius - Oceanic waters'},\n",
       " 'Mare_Vacoas': {'run': True,\n",
       "  'xyt': {'x': (57.48, 57.52),\n",
       "   'y': (-20.38, -20.36),\n",
       "   'time': ('2000', '2024')},\n",
       "  'desc': 'Mauritius - Mare aux Vacoas'},\n",
       " 'Naute': {'run': True,\n",
       "  'xyt': {'x': (17.93, 18.05),\n",
       "   'y': (-26.97, -26.92),\n",
       "   'time': ('2000', '2024')},\n",
       "  'desc': 'Namibia - Naute reserve'},\n",
       " 'Lake_Turkana': {'run': True,\n",
       "  'xyt': {'x': (35.8, 36.72), 'y': (2.38, 4.79), 'time': ('2000', '2024')},\n",
       "  'desc': 'Kenya -- Lake Turkana'}}"
      ]
     },
     "execution_count": 80,
     "metadata": {},
     "output_type": "execute_result"
    }
   ],
   "source": [
    "places_dict"
   ]
  },
  {
   "cell_type": "code",
   "execution_count": 65,
   "id": "ff327d47-a31f-45b4-9113-05994e7a68df",
   "metadata": {},
   "outputs": [],
   "source": [
    "# --- get the dictionary of all possible places for analysis ---\n",
    "places_dict     = set_spacetime_domain()   \n",
    "# --- extract an AOI for a given placename (could iterate through the dictionary keys as an alternative)\n",
    "placename = 'SA_smalldam'   \n",
    "placename = 'Lake_Sulunga'   \n",
    "placename = 'Lake_vic_turbid'   \n",
    "placename = 'Ghana_River'   \n",
    "# --- the functions set_spacetime_domain is used here to set a bunch of processing parameters\n",
    "# --- when operationalising, this must be replaced but an approach that iterates through tiles or waterebodiies\n",
    "\n",
    "spacetime_domain, grid_resolution, cell_area, resampling_option, year1, year2 \\\n",
    "                           = set_spacetime_domain(placename,'2000','2024',max_cells,verbose,False)     "
   ]
  },
  {
   "attachments": {},
   "cell_type": "markdown",
   "id": "4fd5dcf6-b2a8-41d0-8421-9f38c28afc21",
   "metadata": {},
   "source": [
    "### Build a multi-sensor dataset \n",
    "- flexibility is key here, and consistent naming so that measurements from multiple sensors can be unambiguously included in a single dataset for analysis\n",
    "- keeping all data in a single dataset simplifies subsequent steps and retains flexibility, e.g., to add in new water quality algorithms\n",
    "- a dictionary of instruments and sensors is used to rename all measurements to a common form\n",
    "- since we are using annual geomedians, we don't need to harmonise dates, at this point, except for when using temperature data\n",
    "- the approach is designed to be extendable to monthly composites\n",
    "\n",
    "\n",
    "#### set a list of 'instruments' to be used in the analysis. Once methods are all in place this will not change except to support improvements.\n",
    "- instrument names are used rather than satellite names, to avoid confusionFor these purposes, wofs is also an instrument name.\n",
    "- the list is set up to be resuable when we move from geomedians to monthly composites\n"
   ]
  },
  {
   "cell_type": "code",
   "execution_count": 66,
   "id": "be3a92a1-26f3-42cc-b9ac-7a1bed9018bf",
   "metadata": {
    "tags": []
   },
   "outputs": [
    {
     "name": "stdout",
     "output_type": "stream",
     "text": [
      "\n",
      "Building the dataset:\n",
      "loading data for  oli_agm ...\n",
      "loading data for  msi_agm ...\n",
      "loading data for  tm_agm ...\n",
      "loading data for  wofs_ann ...\n",
      "loading data for  wofs_all ...\n"
     ]
    }
   ],
   "source": [
    "# --- set which instruments to use (this is checked later against the date range for each place)\n",
    "# --- for Phase1, mapping, the main datasets are the geomedians. For monioring the local time-seres will be brought in as well as the geomedians.\n",
    "# --- temperature is yet to be included.\n",
    "\n",
    "_instruments_to_use = {\n",
    "    'oli_agm'  : {'use': True },\n",
    "    'oli'      : {'use': False},\n",
    "    'msi_agm'  : {'use': True },\n",
    "    'msi'      : {'use': False},\n",
    "    'tm_agm'   : {'use': True },\n",
    "    'tm'       : {'use': False},\n",
    "    'tirs'     : {'use': False},  \n",
    "    'wofs_ann' : {'use': True },\n",
    "    'wofs_all' : {'use': True },  # wofs_all will be removed as it is better to derive from wofs_ann\n",
    "    }\n",
    "instruments_to_use = _instruments_to_use.copy()  #using a copy is helpful sometimes..\n",
    "\n",
    "# --- don't try to use instruments for which there are no data \n",
    "check_instrument_dates(instruments_to_use,int(year1),int(year2))\n",
    "\n",
    "# --- build the multivariate/multi-sensor dataset. \n",
    "#     Datacube calls are made to extract the primary data. \n",
    "#     Variables are-re-named and merged to a single dataset ---\n",
    "\n",
    "ds             = build_wq_agm_dataset(spacetime_domain,instruments_to_use,True)\n",
    "\n",
    "# --- retain a dictionary of the instruments and measurements that are on-hand ---\n",
    "instruments    = instruments_list(instruments_to_use)[0]  # a list of the instruments  in use\n",
    "            "
   ]
  },
  {
   "cell_type": "markdown",
   "id": "dd891283-e7b4-49d0-8129-f6ea4867a389",
   "metadata": {},
   "source": [
    "### Determine pixels that are water (sometimes, usually, permanent)"
   ]
  },
  {
   "cell_type": "code",
   "execution_count": 67,
   "id": "dfd93d28-d394-43dc-ba85-44a11731fc19",
   "metadata": {},
   "outputs": [
    {
     "name": "stderr",
     "output_type": "stream",
     "text": [
      "/opt/venv/lib/python3.12/site-packages/xarray/core/duck_array_ops.py:236: RuntimeWarning: invalid value encountered in cast\n",
      "  return data.astype(dtype, **kwargs)\n"
     ]
    }
   ],
   "source": [
    "# --- controlling parameters for water mapping on a pixel by pixel basis ---\n",
    "WFTH = water_frequency_threshold_high = 0.5    #this threshold targets areas that are as like as not to be water at any time.\n",
    "WFTL = water_frequency_threshold_low  = 0.1    #for pixel processing (rather than during summation)\n",
    "PWT  = permanent_water_threshold      = 0.875  #used to map annual permanent water (value arrived at through testing)\n",
    "SC   = sigma_coefficient              = 1.2    #used to map annual permanent water (value arrived at through tessting)\n",
    "ds   = water_analysis(ds,\n",
    "                   water_frequency_threshold= WFTH,\n",
    "                   wofs_varname             = 'wofs_ann_freq',\n",
    "                   permanent_water_threshold= PWT,\n",
    "                   sigma_coefficient        = SC,\n",
    "                   verbose                  = verbose,\n",
    "                   test                     = test)"
   ]
  },
  {
   "cell_type": "markdown",
   "id": "5baa4657-c4f9-4a8c-92c4-bcd74d81b101",
   "metadata": {},
   "source": [
    "### Pixel corrections"
   ]
  },
  {
   "cell_type": "code",
   "execution_count": 68,
   "id": "08c8b530-f302-4e4d-9df2-11236de473c0",
   "metadata": {},
   "outputs": [],
   "source": [
    "# --- dark Pixel correction, the 'dp_adjust' dictionary controls which variables are used as a reference, \n",
    "#     and which are changed in the dark-pixel correction\n",
    "#     Add entries to cater for non-geomedian situations.\n",
    "\n",
    "dp_adjust = { \n",
    "        'msi_agm': {'ref_var':'msi12_agm','var_list': ['msi04_agm','msi03_agm','msi02_agm','msi05_agm','msi06_agm', 'msi07_agm']},\n",
    "        'oli_agm': {'ref_var':'oli07_agm','var_list': ['oli04_agm','oli03_agm','oli02_agm']},\n",
    "        'tm_agm' : {'ref_var':'tm07_agm', 'var_list': ['tm04_agm','tm03_agm','tm02_agm','tm01_agm']}\n",
    "        }\n",
    "ds = R_correction(ds,dp_adjust,instruments,water_frequency_threshold_low,verbose=verbose,test=test)"
   ]
  },
  {
   "cell_type": "markdown",
   "id": "2ae014bc-0dd1-4e67-8511-e21e18eaf8b9",
   "metadata": {},
   "source": [
    "### Hue; calculation of the hue value"
   ]
  },
  {
   "cell_type": "code",
   "execution_count": 69,
   "id": "450ff938-177a-43a0-9377-92f3fb26ecf9",
   "metadata": {},
   "outputs": [],
   "source": [
    "if not (('msi_agm') in instruments.keys()):\n",
    "    print(\"skipping hue calculation as the msi_agm instrument is not in the dataset\")\n",
    "else: \n",
    "    ds['hue'] = hue_calculation(ds,instrument='msi_agm',test=test,verbose=verbose)[0]"
   ]
  },
  {
   "cell_type": "markdown",
   "id": "de122cb3-b3ba-4203-9809-4ba02f7326f8",
   "metadata": {},
   "source": [
    "### Optical Water Type (OWT)\n",
    "The algorithm compares each pixel's band values with 13 reference spectra based on the spectral angle. Therefore, for each pixel 13 dot products are calculated. \n",
    "Memory intensive, data are down-sampled for processing. \n",
    "Methods as per Spyrakos et al 2018. - code here caters for msi_agm and oli_agm sensors (ie., the annual geomedian), but easily adapted to msi and oli through dictionary entries\n",
    "OWT is estimated from the spectral angle between the pixel and the refence spectra for each of the 13 OWTs\n",
    "- extension to other sensors (TM, OLCI) also quite straightforward but the OWT refence data would need to be brought in.\n",
    "\n",
    "we can do this for Landsat and for Sentinel, however in the geomedian \n",
    "- OLI has only 3 available bands (2,3,4) - missing band 1\n",
    "- MSI has only 6  of 7 useful bands (missing band 1) \n",
    "- TM  has 4  (all of 1,2,3,4)\n",
    "\n",
    "**To do, ideally : Upload the full reference spectra and establish an import function to bring in as a data array.**\n",
    "- Here, I have estimated the mean band reflectance for each sensor in excell using the spectral response curves (MSI response functions are available on-line) and used the results directly \n",
    "\n",
    "#### Zhang et al. group the OWTs as follows:\n",
    "- oligotrophic (clear)           : 3, 9, 13           (apply NASA OCx model for ChlA) - we don't see much of this!!!\n",
    "- eutopic and bluegreen waters   : 1, 2, 4, 5, 11, 12 (apply two band models of Gurlin et al for ChlA)\n",
    "- hypereutrophic and green-brown : 6, 7, 8, 10        (apply TC2 alg for ChlA)   "
   ]
  },
  {
   "cell_type": "code",
   "execution_count": 70,
   "id": "1d96611b-aa4e-4e92-8000-5a76c91f96cf",
   "metadata": {},
   "outputs": [],
   "source": [
    "ds['owt_msi'] = OWT_pixel(ds,'msi_agm',water_frequency_threshold=0.8,resample_rate=3,verbose=False, test=True)        \n"
   ]
  },
  {
   "cell_type": "markdown",
   "id": "fca28415-5e0f-49cb-ba8c-94b6e8708c13",
   "metadata": {},
   "source": [
    "### Calculate the raw (i.e. not harmonised) water quality measurements and indices\n",
    "- A dictionary is used to manage water quality algorithms and the bands that are used in them. This retains flexibility (e.g. algorithms can be run with multiple sensors) and avoids errors\n",
    "- NEW DIMENSIONS are added to the dataset to house the results. One dimension is added called 'chla', and one called 'tss'. This appraoch simplifies later processing when we want to pool the measures as an ensemble. (For simplicity, I may remove this and bring in at a later stage..)\n",
    "\n"
   ]
  },
  {
   "cell_type": "code",
   "execution_count": 71,
   "id": "80ef2308-1ad4-4a1c-9abb-bfd901905535",
   "metadata": {},
   "outputs": [],
   "source": [
    "# ----  dictionary of instruments, bands, algorithms, and  functions -----------------------   \n",
    "\n",
    "ndci_nir_r   =  { \n",
    "                \"msi_agm\"   : {'54' : {'func': NDCI_NIR_R, \"wq_varname\" : 'ndci_msi54_agm'       ,'args' : {\"NIR_band\" : 'msi05_agmr', \"red_band\":'msi04_agmr'}},\n",
    "                               '64' : {'func': NDCI_NIR_R, \"wq_varname\" : 'ndci_msi64_agm'       ,'args' : {\"NIR_band\" : 'msi06_agmr', \"red_band\":'msi04_agmr'}},\n",
    "                               '74' : {'func': NDCI_NIR_R, \"wq_varname\" : 'ndci_msi74_agm'       ,'args' : {\"NIR_band\" : 'msi07_agmr', \"red_band\":'msi04_agmr'}}},\n",
    "                \"tm_agm\"    : {'func': NDCI_NIR_R, \"wq_varname\" : 'ndci_tm43_agm'                ,'args' : {\"NIR_band\" : 'tm04_agm'  , \"red_band\":'tm03_agmr'}},\n",
    "                \"oli_agm\"   : {'func': NDCI_NIR_R, \"wq_varname\" : 'ndci_oli54_agm'               ,'args' : {\"NIR_band\" : 'oli05_agm' , \"red_band\":'oli04_agmr'}}\n",
    "                }\n",
    "\n",
    "chla_meris2b = {\"msi_agm\" : {'func': ChlA_MERIS2B, \"wq_varname\" : 'chla_meris2b_msi_agm' ,'args' : {\"band_708\" : 'msi05_agmr', \"band_665\":'msi04_agmr'}},\n",
    "                    \"msi\"     : {'func': ChlA_MERIS2B, \"wq_varname\" : 'chla_meris2b_msi'     ,'args' : {\"band_708\" : 'msi05'     , \"band_665\":'msi04'}}}\n",
    "\n",
    "chla_modis2b = {\"msi_agm\" : {'func': ChlA_MODIS2B, \"wq_varname\" : 'chla_modis2b_msi_agm' ,'args' : {\"band_748\" : 'msi06_agmr', \"band_667\":'msi04_agmr'}},\n",
    "                    \"msi\"     : {'func': ChlA_MODIS2B, \"wq_varname\" : 'chla_modis2b_msi'     ,'args' : {\"band_748\" : 'msi06'     , \"band_667\":'msi04'}},\n",
    "                    \"tm_agm\"  : {'func': ChlA_MODIS2B, \"wq_varname\" : 'chla_modis2b_tm_agm'  ,'args' : {\"band_748\" : 'tm04_agmr' , \"band_667\":'tm03_agmr'}}}\n",
    "\n",
    "ndssi_rg     = {\"msi_agm\" : {'func': NDSSI_RG,     \"wq_varname\" : 'ndssi_rg_msi_agm'       ,'args' : { \"red_band\":'msi04_agmr', \"green_band\":'msi03_agmr'}},\n",
    "                \"msi\"     : {'func': NDSSI_RG,     \"wq_varname\" : 'ndssi_rg_msi'           ,'args' : { \"red_band\":'msi04r'    , \"green_band\":'msi03_agmr'}},\n",
    "                \"oli_agm\" : {'func': NDSSI_RG,     \"wq_varname\" : 'ndssi_rg_oli_agm'       ,'args' : { \"red_band\":'oli04_agmr', \"green_band\":'oli03_agmr'}},\n",
    "                \"oli\"     : {'func': NDSSI_RG,     \"wq_varname\" : 'ndssi_rg_oli'           ,'args' : { \"red_band\":'oli04r'    , \"green_band\":'oli03r'    }},\n",
    "                \"tm_agm\"  : {'func': NDSSI_RG,     \"wq_varname\" : 'ndssi_rg_tm_agm'        ,'args' : { \"red_band\":'tm03_agmr' , \"green_band\":'tm02_agmr' }},\n",
    "                \"tm\"      : {'func': NDSSI_RG,     \"wq_varname\" : 'ndssi_rg_tm'            ,'args' : { \"red_band\":'tm03r'     , \"green_band\":'tmi02r'    }}}\n",
    "\n",
    "ndssi_bnir   = {#\"msi_agm\" : {'func': NDSSI_BNIR,   \"wq_varname\" : 'ndssi_bnir_msi_agm'     ,'args' : { \"NIR_band\":'msi08_agmr', \"blue_band\":'msi02_agmr'}},\n",
    "                \"msi\"     : {'func': NDSSI_BNIR,   \"wq_varname\" : 'ndssi_bnir_msi'         ,'args' : { \"NIR_band\":'msi08'     , \"blue_band\":'msi02_agmr'}},\n",
    "                \"oli_agm\" : {'func': NDSSI_BNIR,   \"wq_varname\" : 'ndssi_bnir_oli_agm'     ,'args' : { \"NIR_band\":'oli06_agm' , \"blue_band\":'oli02_agmr'}},\n",
    "                \"oli\"     : {'func': NDSSI_BNIR,   \"wq_varname\" : 'ndssi_bnir_oli'         ,'args' : { \"NIR_band\":'oli06'     , \"blue_band\":'oli02r'    }},\n",
    "                #\"tm_agm\"  : {'func': NDSSI_BNIR,   \"wq_varname\" : 'ndssi_bnir_tm_agm'      ,'args' : { \"NIR_band\":'tm04_agm'  , \"blue_band\":'tm01_agmr' }},\n",
    "                \"tm\"      : {'func': NDSSI_BNIR,   \"wq_varname\" : 'ndssi_bnir_tm'          ,'args' : { \"NIR_band\":'tm04'     , \"blue_band\":'tm01r'    }}}\n",
    "\n",
    "\n",
    "ti_yu        = {#\"msi_agm\" : {'func': TI_yu,        \"wq_varname\" : 'ti_yu_msi_agm'        ,'args' : {\"NIR\" : 'msi08_agmr', \"Red\":'msi04_agmr', \"Green\":'msi03_agmr'}},\n",
    "                    \"msi\"     : {'func': TI_yu,        \"wq_varname\" : 'ti_yu_msi'            ,'args' : {\"NIR\" : 'msi08'     , \"Red\":'msi04r'    , \"Green\":'msi03_agmr'}},\n",
    "                    \"oli_agm\" : {'func': TI_yu,        \"wq_varname\" : 'ti_yu_oli_agm'        ,'args' : {\"NIR\" : 'oli06_agm' , \"Red\":'oli04_agmr', \"Green\":'oli03_agmr'}},\n",
    "                    \"oli\"     : {'func': TI_yu,        \"wq_varname\" : 'ti_yu_oli'            ,'args' : {\"NIR\" : 'oli06'     , \"Red\":'oli04r'    , \"Green\":'oli03r'    }},\n",
    "                    \"tm_agm\"  : {'func': TI_yu,        \"wq_varname\" : 'ti_yu_tm_agm'         ,'args' : {\"NIR\" : 'tm04_agm'  , \"Red\":'tm03_agmr' , \"Green\":'tm02_agmr' }},\n",
    "                    \"tm\"      : {'func': TI_yu,        \"wq_varname\" : 'ti_yu_tm'             ,'args' : {\"NIR\" : 'tm04'      , \"Red\":'tm03r'     , \"Green\":'tmi02r'    }}}\n",
    "\n",
    "tsm_lym      = {\"oli_agm\" : {'func': TSM_LYM_OLI,  \"wq_varname\" : 'tsm_lym_oli_agm'        ,'args' : {\"red_band\":'oli04_agmr', \"green_band\":'oli03_agmr'}},\n",
    "                    \"oli\"     : {'func': TSM_LYM_OLI,  \"wq_varname\" : 'tsm_lym_oli'            ,'args' : {\"red_band\":'oli04r'    , \"green_band\":'oli03r'    }},\n",
    "                    \"msi_agm\" : {'func': TSM_LYM_OLI,  \"wq_varname\" : 'tsm_lym_msi_agm'        ,'args' : {\"red_band\":'msi04_agmr', \"green_band\":'msi03_agmr' }},\n",
    "                    \"msi\"     : {'func': TSM_LYM_OLI,  \"wq_varname\" : 'tsm_lym_msi'            ,'args' : {\"red_band\":'msi04r'    , \"green_band\":'msi03r'    }},\n",
    "                    \"tm_agm\"  : {'func': TSM_LYM_ETM,  \"wq_varname\" : 'tsm_lym_tm_agm'         ,'args' : {\"red_band\":'tm03_agmr' , \"green_band\":'tm02_agmr' }},\n",
    "                    \"tm\"      : {'func': TSM_LYM_ETM,  \"wq_varname\" : 'tsm_lym_tm'             ,'args' : {\"red_band\":'tm03r'     , \"green_band\":'tm02r'     }}}\n",
    "\n",
    "spm_qiu      = {\"oli_agm\" : {'func': SPM_QIU,  \"wq_varname\" : 'spm_qiu_oli_agm'        ,'args' : {\"red_band\":'oli04_agmr', \"green_band\":'oli03_agmr'}},\n",
    "                    \"oli\"     : {'func': SPM_QIU,  \"wq_varname\" : 'spm_qiu_oli'            ,'args' : {\"red_band\":'oli04r'    , \"green_band\":'oli03r'    }},\n",
    "                    \"tm_agm\"  : {'func': SPM_QIU,  \"wq_varname\" : 'spm_qiu_tm_agm'         ,'args' : {\"red_band\":'tm03_agmr' , \"green_band\":'tm02_agmr' }},\n",
    "                    \"tm\"      : {'func': SPM_QIU,  \"wq_varname\" : 'spm_qiu_tm'             ,'args' : {\"red_band\":'tm03r'     , \"green_band\":'tm02r'     }},\n",
    "                    \"msi_agm\" : {'func': SPM_QIU,  \"wq_varname\" : 'spm_qiu_msi_agm'        ,'args' : {\"red_band\":'msi04_agmr', \"green_band\":'msi03_agmr'}},\n",
    "                    \"msi\"     : {'func': SPM_QIU,  \"wq_varname\" : 'spm_qiu_msi'            ,'args' : {\"red_band\":'msi04r'    , \"green_band\":'msi03r'    }}}\n",
    "\n",
    "tss_zhang        = {\"msi_agm\" : {'func': TSS_Zhang, \"wq_varname\" : 'tss_zhang_msi_agm' ,'args' : {\"blue_band\" : 'msi02_agmr', \"red_band\":'msi04_agmr', \"green_band\":'msi03_agmr'}},\n",
    "                        \"msi\"     : {'func': TSS_Zhang, \"wq_varname\" : 'tss_zhang_msi'     ,'args' : {\"blue_band\" : 'msi02r'    , \"red_band\":'msi04r'    , \"green_band\":'msi03_agmr'}},\n",
    "                        \"oli_agm\" : {'func': TSS_Zhang, \"wq_varname\" : 'tss_zhang_oli_agm' ,'args' : {\"blue_band\" : 'oli02_agmr', \"red_band\":'oli04_agmr', \"green_band\":'oli03_agmr'}},\n",
    "                        \"oli\"     : {'func': TSS_Zhang, \"wq_varname\" : 'tss_zhang_oli'     ,'args' : {\"blue_band\" : 'oli02r'    , \"red_band\":'oli04r'    , \"green_band\":'oli03r'    }}}\n",
    "\n",
    "# ---- algorithms are grouped into two over-arching dictionaries ---- \n",
    "algorithms_chla = {\"ndci_nir_r\"   : ndci_nir_r, \n",
    "                       \"chla_meris2b\" : chla_meris2b, \n",
    "                       \"chla_modis2b\" : chla_modis2b}\n",
    "algorithms_tsm  = {\"ndssi_rg\"     : ndssi_rg  , \n",
    "                       \"ndssi_bnir\"   : ndssi_bnir, \n",
    "                       \"ti_yu\"        : ti_yu     ,\n",
    "                       \"tsm_lym\"      : tsm_lym   ,\n",
    "                       \"tss_zhang\"    : tss_zhang ,\n",
    "                       \"spm_qiu\"      : spm_qiu    }"
   ]
  },
  {
   "cell_type": "code",
   "execution_count": 72,
   "id": "4cafd8c2-4152-4e90-96a6-18304820ff2c",
   "metadata": {},
   "outputs": [],
   "source": [
    "# ---- Apply the WQ algorithms to water areas, adding variables to the dataset and building  a list of water quality variable nanmes\n",
    "# -- this can be run either keeping the wq variables as separate variables on the dataset, or by moving them into new dimensions, 'tss' and 'chla'\n",
    "# -- If the arguments 'new_dimension_name' or 'new_varname' are None (or empty), then the outputs will be retained as separate variables in a 3d dataset\n",
    "\n",
    "if True: #put the data into a new dimension, call the variable 'tss' or 'chla'\n",
    "    ds,tsm_vlist  = WQ_vars(ds.where(ds.wofs_ann_freq >= water_frequency_threshold_low),\n",
    "                        algorithms_tsm,  \n",
    "                        instruments, \n",
    "                        new_dimension_name='tss_measure', \n",
    "                        new_varname='tss', \n",
    "                        verbose=verbose)\n",
    "    ds,chla_vlist = WQ_vars(ds.where(ds.wofs_ann_freq >= water_frequency_threshold_low),\n",
    "                        algorithms_chla, \n",
    "                        instruments, \n",
    "                        new_dimension_name='chla_measure', \n",
    "                        new_varname='chla',\n",
    "                        verbose=verbose)\n",
    "\n",
    "else:  #keep it simple, just add new data as new variables in a 3-D dataset \n",
    "    ds,tsm_vlist  = WQ_vars(ds.where(ds.wofs_ann_freq >= water_frequency_threshold_low),\n",
    "                        algorithms_tsm,  \n",
    "                        instruments, \n",
    "                        new_dimension_name=None, \n",
    "                        new_varname=None, \n",
    "                        verbose=verbose)\n",
    "    ds,chla_vlist = WQ_vars(ds.where(ds.wofs_ann_freq >= water_frequency_threshold_low),\n",
    "                        algorithms_chla, \n",
    "                        instruments, \n",
    "                        new_dimension_name=None, \n",
    "                        new_varname=None,\n",
    "                        verbose=verbose)\n",
    "wq_varlist = np.append(tsm_vlist,chla_vlist)\n"
   ]
  },
  {
   "cell_type": "code",
   "execution_count": 73,
   "id": "798859d5-b08b-4989-be6b-a8e12c20a949",
   "metadata": {},
   "outputs": [],
   "source": [
    "# ---- tidy up by dropping excess variables ---\n",
    "keeplist = ('wofs_ann_clearcount','wofs_ann_wetcount','wofs_ann_freq','wofs_ann_freq_sigma','wofs_pw_threshold','wofs_ann_pwater','watermask','owt_msi','tss','chla')\n",
    "#the keeplist is not complete; if the wq variables are retained as variables they will appear in a listing of data_vars. \n",
    "#therefore, revert to the instruments dictionary to list variables to drop\n",
    "droplist = []\n",
    "for instrument in list(instruments.keys()):\n",
    "    for band in list(instruments[instrument].keys()):\n",
    "        variable = instruments[instrument][band]['varname']\n",
    "        if not (variable in keeplist): \n",
    "            droplist=np.append(droplist,variable)\n",
    "            droplist=np.append(droplist,variable+'r')\n",
    "for varname in droplist:\n",
    "    if varname in ds.data_vars:\n",
    "        ds = ds.drop_vars(varname)\n",
    "    "
   ]
  },
  {
   "cell_type": "markdown",
   "id": "88dc7f84-dd6c-4a0d-b1fa-b436d9340d53",
   "metadata": {},
   "source": [
    "### And we are Done... :)"
   ]
  },
  {
   "cell_type": "code",
   "execution_count": 74,
   "id": "7538cb9e-5e37-42b2-871a-1af2576131ca",
   "metadata": {},
   "outputs": [],
   "source": [
    "#export the dataset as an input for the next step:\n",
    "ds.to_netcdf(\"../WP1.4/wp12_ds_\"+placename+\".nc\")"
   ]
  },
  {
   "cell_type": "code",
   "execution_count": 75,
   "id": "1f58627a-79a2-4425-a1e6-a59bf4aecd8b",
   "metadata": {},
   "outputs": [
    {
     "data": {
      "text/plain": [
       "Data variables:\n",
       "    wofs_ann_freq        (time, y, x) float32 5MB nan nan nan ... nan nan nan\n",
       "    wofs_ann_clearcount  (time, y, x) float64 9MB nan nan nan ... nan nan nan\n",
       "    wofs_ann_wetcount    (time, y, x) float64 9MB nan nan nan ... nan nan nan\n",
       "    wofs_ann_freq_sigma  (time, y, x) float64 9MB nan nan nan ... nan nan nan\n",
       "    wofs_ann_confidence  (time, y, x) float32 5MB nan nan nan ... nan nan nan\n",
       "    wofs_pw_threshold    (time, y, x) float64 9MB nan nan nan ... nan nan nan\n",
       "    wofs_ann_pwater      (time, y, x) float32 5MB nan nan nan ... nan nan nan\n",
       "    wofs_ann_water       (time, y, x) float32 5MB nan nan nan ... nan nan nan\n",
       "    watermask            (time, y, x) float64 9MB nan nan nan ... nan nan nan\n",
       "    hue                  (time, y, x) float64 9MB nan nan nan ... nan nan nan\n",
       "    owt_msi              (time, y, x) float64 9MB nan nan nan ... nan nan nan\n",
       "    tss                  (time, y, x, tss_measure) float64 133MB nan nan ... nan\n",
       "    chla                 (time, y, x, chla_measure) float64 76MB nan nan ... nan"
      ]
     },
     "execution_count": 75,
     "metadata": {},
     "output_type": "execute_result"
    }
   ],
   "source": [
    "ds.data_vars"
   ]
  },
  {
   "cell_type": "code",
   "execution_count": 76,
   "id": "fa88d94f-ccc6-4cc8-a13f-1d6e32d00947",
   "metadata": {},
   "outputs": [
    {
     "name": "stderr",
     "output_type": "stream",
     "text": [
      "/opt/venv/lib/python3.12/site-packages/xarray/core/duck_array_ops.py:236: RuntimeWarning: invalid value encountered in cast\n",
      "  return data.astype(dtype, **kwargs)\n"
     ]
    }
   ],
   "source": [
    "ds['wofs_ann_confidence'] = ((1.0 - (ds.wofs_ann_freq_sigma/ds.wofs_ann_freq)) * 100).astype('int16')"
   ]
  },
  {
   "cell_type": "code",
   "execution_count": 79,
   "id": "93865d9c-cce8-4ad7-ab27-d8f457f190d0",
   "metadata": {},
   "outputs": [
    {
     "data": {
      "text/plain": [
       "<matplotlib.collections.QuadMesh at 0x7f6438a62bd0>"
      ]
     },
     "execution_count": 79,
     "metadata": {},
     "output_type": "execute_result"
    },
    {
     "data": {
      "image/png": "[encoded data removed]",
      "text/plain": [
       "<Figure size 640x480 with 2 Axes>"
      ]
     },
     "metadata": {},
     "output_type": "display_data"
    }
   ],
   "source": [
    "ds.isel(time=24).wofs_ann_pwater.plot()"
   ]
  },
  {
   "cell_type": "code",
   "execution_count": null,
   "id": "2846c295-8de0-4d0d-94ef-a4b2f4584adb",
   "metadata": {},
   "outputs": [],
   "source": []
  }
 ],
 "metadata": {
  "kernelspec": {
   "display_name": "Python 3 (ipykernel)",
   "language": "python",
   "name": "python3"
  },
  "language_info": {
   "codemirror_mode": {
    "name": "ipython",
    "version": 3
   },
   "file_extension": ".py",
   "mimetype": "text/x-python",
   "name": "python",
   "nbconvert_exporter": "python",
   "pygments_lexer": "ipython3",
   "version": "3.12.3"
  }
 },
 "nbformat": 4,
 "nbformat_minor": 5
}
